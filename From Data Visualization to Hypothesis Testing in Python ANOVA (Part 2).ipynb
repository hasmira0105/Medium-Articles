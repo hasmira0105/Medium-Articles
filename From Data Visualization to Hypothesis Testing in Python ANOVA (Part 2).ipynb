{
 "cells": [
  {
   "cell_type": "markdown",
   "metadata": {},
   "source": [
    "## From Data Visualization to Hypothesis Testing in Python: A Practical Approach using ANOVA (part 2)\n",
    "\n",
    "You can visit my article on Medium where I give a thorough explanation of how to conduct t-test in this notebook. The link is here: https://medium.com/@miraismira/from-data-visualization-to-hypothesis-testing-in-python-t-test-part-1-1260ab651801"
   ]
  },
  {
   "cell_type": "code",
   "execution_count": 1,
   "metadata": {},
   "outputs": [],
   "source": [
    "import pandas as pd\n",
    "import numpy as np\n",
    "import seaborn as sns\n",
    "import matplotlib.pyplot as plt\n",
    "%matplotlib inline"
   ]
  },
  {
   "cell_type": "code",
   "execution_count": 2,
   "metadata": {},
   "outputs": [
    {
     "data": {
      "text/html": [
       "<div>\n",
       "<style scoped>\n",
       "    .dataframe tbody tr th:only-of-type {\n",
       "        vertical-align: middle;\n",
       "    }\n",
       "\n",
       "    .dataframe tbody tr th {\n",
       "        vertical-align: top;\n",
       "    }\n",
       "\n",
       "    .dataframe thead th {\n",
       "        text-align: right;\n",
       "    }\n",
       "</style>\n",
       "<table border=\"1\" class=\"dataframe\">\n",
       "  <thead>\n",
       "    <tr style=\"text-align: right;\">\n",
       "      <th></th>\n",
       "      <th>gender</th>\n",
       "      <th>ethnicity</th>\n",
       "      <th>parents_edu</th>\n",
       "      <th>lunch</th>\n",
       "      <th>prep_course</th>\n",
       "      <th>math_score</th>\n",
       "      <th>read_score</th>\n",
       "      <th>write_score</th>\n",
       "    </tr>\n",
       "  </thead>\n",
       "  <tbody>\n",
       "    <tr>\n",
       "      <th>0</th>\n",
       "      <td>female</td>\n",
       "      <td>group B</td>\n",
       "      <td>bachelor's degree</td>\n",
       "      <td>standard</td>\n",
       "      <td>none</td>\n",
       "      <td>72</td>\n",
       "      <td>72</td>\n",
       "      <td>74</td>\n",
       "    </tr>\n",
       "    <tr>\n",
       "      <th>1</th>\n",
       "      <td>female</td>\n",
       "      <td>group C</td>\n",
       "      <td>some college</td>\n",
       "      <td>standard</td>\n",
       "      <td>completed</td>\n",
       "      <td>69</td>\n",
       "      <td>90</td>\n",
       "      <td>88</td>\n",
       "    </tr>\n",
       "    <tr>\n",
       "      <th>2</th>\n",
       "      <td>female</td>\n",
       "      <td>group B</td>\n",
       "      <td>master's degree</td>\n",
       "      <td>standard</td>\n",
       "      <td>none</td>\n",
       "      <td>90</td>\n",
       "      <td>95</td>\n",
       "      <td>93</td>\n",
       "    </tr>\n",
       "    <tr>\n",
       "      <th>3</th>\n",
       "      <td>male</td>\n",
       "      <td>group A</td>\n",
       "      <td>associate's degree</td>\n",
       "      <td>free/reduced</td>\n",
       "      <td>none</td>\n",
       "      <td>47</td>\n",
       "      <td>57</td>\n",
       "      <td>44</td>\n",
       "    </tr>\n",
       "    <tr>\n",
       "      <th>4</th>\n",
       "      <td>male</td>\n",
       "      <td>group C</td>\n",
       "      <td>some college</td>\n",
       "      <td>standard</td>\n",
       "      <td>none</td>\n",
       "      <td>76</td>\n",
       "      <td>78</td>\n",
       "      <td>75</td>\n",
       "    </tr>\n",
       "  </tbody>\n",
       "</table>\n",
       "</div>"
      ],
      "text/plain": [
       "   gender ethnicity         parents_edu         lunch prep_course  math_score  \\\n",
       "0  female   group B   bachelor's degree      standard        none          72   \n",
       "1  female   group C        some college      standard   completed          69   \n",
       "2  female   group B     master's degree      standard        none          90   \n",
       "3    male   group A  associate's degree  free/reduced        none          47   \n",
       "4    male   group C        some college      standard        none          76   \n",
       "\n",
       "   read_score  write_score  \n",
       "0          72           74  \n",
       "1          90           88  \n",
       "2          95           93  \n",
       "3          57           44  \n",
       "4          78           75  "
      ]
     },
     "execution_count": 2,
     "metadata": {},
     "output_type": "execute_result"
    }
   ],
   "source": [
    "df = pd.read_csv(\"StudentsPerformance_edit.csv\")\n",
    "df.head()"
   ]
  },
  {
   "cell_type": "code",
   "execution_count": 4,
   "metadata": {},
   "outputs": [],
   "source": [
    "# Sampling data\n",
    "g_a = df[df.ethnicity==\"group A\"].sample(n=40, random_state=123)\n",
    "g_b = df[df.ethnicity==\"group B\"].sample(n=40, random_state=123)\n",
    "g_c = df[df.ethnicity==\"group C\"].sample(n=40, random_state=123)\n",
    "g_d = df[df.ethnicity==\"group D\"].sample(n=40, random_state=123)\n",
    "g_e = df[df.ethnicity==\"group E\"].sample(n=40, random_state=123)\n",
    "\n",
    "#Concatenate the sample data\n",
    "sample_group = pd.concat([g_a, g_b, g_c, g_d, g_e], ignore_index=True)"
   ]
  },
  {
   "cell_type": "code",
   "execution_count": 5,
   "metadata": {},
   "outputs": [
    {
     "data": {
      "text/plain": [
       "<seaborn.axisgrid.FacetGrid at 0x24be9b39be0>"
      ]
     },
     "execution_count": 5,
     "metadata": {},
     "output_type": "execute_result"
    },
    {
     "data": {
      "image/png": "[encoded data removed]",
      "text/plain": [
       "<Figure size 360x360 with 1 Axes>"
      ]
     },
     "metadata": {
      "needs_background": "light"
     },
     "output_type": "display_data"
    }
   ],
   "source": [
    "sns.catplot(data=sample_group, x=\"ethnicity\", \n",
    "            y=\"math_score\", palette=\"gist_rainbow_r\")"
   ]
  },
  {
   "cell_type": "code",
   "execution_count": 6,
   "metadata": {},
   "outputs": [
    {
     "data": {
      "text/plain": [
       "<seaborn.axisgrid.FacetGrid at 0x24be9c1bcd0>"
      ]
     },
     "execution_count": 6,
     "metadata": {},
     "output_type": "execute_result"
    },
    {
     "data": {
      "image/png": "[encoded data removed]",
      "text/plain": [
       "<Figure size 435.75x360 with 1 Axes>"
      ]
     },
     "metadata": {
      "needs_background": "light"
     },
     "output_type": "display_data"
    }
   ],
   "source": [
    "sns.displot(data=sample_group,  x=\"math_score\", \n",
    "            hue=\"ethnicity\", kind=\"kde\", \n",
    "            palette=\"gist_rainbow_r\")"
   ]
  },
  {
   "cell_type": "code",
   "execution_count": 7,
   "metadata": {},
   "outputs": [
    {
     "data": {
      "text/plain": [
       "<AxesSubplot:xlabel='math_score', ylabel='ethnicity'>"
      ]
     },
     "execution_count": 7,
     "metadata": {},
     "output_type": "execute_result"
    },
    {
     "data": {
      "image/png": "[encoded data removed]",
      "text/plain": [
       "<Figure size 432x288 with 1 Axes>"
      ]
     },
     "metadata": {
      "needs_background": "light"
     },
     "output_type": "display_data"
    }
   ],
   "source": [
    "sns.boxplot(data=sample_group,  x=\"math_score\", y=\"ethnicity\", \n",
    "            palette=\"gist_rainbow_r\")"
   ]
  },
  {
   "cell_type": "code",
   "execution_count": 8,
   "metadata": {},
   "outputs": [
    {
     "data": {
      "text/plain": [
       "<AxesSubplot:xlabel='ethnicity', ylabel='math_score'>"
      ]
     },
     "execution_count": 8,
     "metadata": {},
     "output_type": "execute_result"
    },
    {
     "data": {
      "image/png": "[encoded data removed]",
      "text/plain": [
       "<Figure size 432x288 with 1 Axes>"
      ]
     },
     "metadata": {
      "needs_background": "light"
     },
     "output_type": "display_data"
    }
   ],
   "source": [
    "sns.violinplot(data=sample_group,  x=\"ethnicity\", y=\"math_score\", palette=\"gist_rainbow_r\")"
   ]
  },
  {
   "cell_type": "code",
   "execution_count": 9,
   "metadata": {},
   "outputs": [
    {
     "data": {
      "text/html": [
       "<div>\n",
       "<style scoped>\n",
       "    .dataframe tbody tr th:only-of-type {\n",
       "        vertical-align: middle;\n",
       "    }\n",
       "\n",
       "    .dataframe tbody tr th {\n",
       "        vertical-align: top;\n",
       "    }\n",
       "\n",
       "    .dataframe thead th {\n",
       "        text-align: right;\n",
       "    }\n",
       "</style>\n",
       "<table border=\"1\" class=\"dataframe\">\n",
       "  <thead>\n",
       "    <tr style=\"text-align: right;\">\n",
       "      <th></th>\n",
       "      <th>group name</th>\n",
       "      <th>mean</th>\n",
       "      <th>std</th>\n",
       "    </tr>\n",
       "  </thead>\n",
       "  <tbody>\n",
       "    <tr>\n",
       "      <th>0</th>\n",
       "      <td>group A</td>\n",
       "      <td>61.325</td>\n",
       "      <td>14.417560</td>\n",
       "    </tr>\n",
       "    <tr>\n",
       "      <th>1</th>\n",
       "      <td>group B</td>\n",
       "      <td>64.300</td>\n",
       "      <td>15.607690</td>\n",
       "    </tr>\n",
       "    <tr>\n",
       "      <th>2</th>\n",
       "      <td>group C</td>\n",
       "      <td>61.025</td>\n",
       "      <td>12.292352</td>\n",
       "    </tr>\n",
       "    <tr>\n",
       "      <th>3</th>\n",
       "      <td>group D</td>\n",
       "      <td>65.125</td>\n",
       "      <td>13.301605</td>\n",
       "    </tr>\n",
       "    <tr>\n",
       "      <th>4</th>\n",
       "      <td>group E</td>\n",
       "      <td>71.550</td>\n",
       "      <td>15.582617</td>\n",
       "    </tr>\n",
       "  </tbody>\n",
       "</table>\n",
       "</div>"
      ],
      "text/plain": [
       "  group name    mean        std\n",
       "0    group A  61.325  14.417560\n",
       "1    group B  64.300  15.607690\n",
       "2    group C  61.025  12.292352\n",
       "3    group D  65.125  13.301605\n",
       "4    group E  71.550  15.582617"
      ]
     },
     "execution_count": 9,
     "metadata": {},
     "output_type": "execute_result"
    }
   ],
   "source": [
    "name = sorted(df[\"ethnicity\"].unique())\n",
    "group = [g_a, g_b, g_c, g_d, g_e]\n",
    "mean_value = []\n",
    "std_value = []\n",
    "\n",
    "for group in group:\n",
    "    mean = group[\"math_score\"].mean()\n",
    "    std = group[\"math_score\"].std()\n",
    "    mean_value.append(mean)\n",
    "    std_value.append(std)\n",
    "\n",
    "table_sample = pd.DataFrame(list(zip(name, mean_value, std_value)),\n",
    "                           columns=[\"group name\", \"mean\", \"std\"])\n",
    "table_sample\n",
    "  "
   ]
  },
  {
   "cell_type": "code",
   "execution_count": 11,
   "metadata": {},
   "outputs": [
    {
     "data": {
      "text/html": [
       "<div>\n",
       "<style scoped>\n",
       "    .dataframe tbody tr th:only-of-type {\n",
       "        vertical-align: middle;\n",
       "    }\n",
       "\n",
       "    .dataframe tbody tr th {\n",
       "        vertical-align: top;\n",
       "    }\n",
       "\n",
       "    .dataframe thead th {\n",
       "        text-align: right;\n",
       "    }\n",
       "</style>\n",
       "<table border=\"1\" class=\"dataframe\">\n",
       "  <thead>\n",
       "    <tr style=\"text-align: right;\">\n",
       "      <th></th>\n",
       "      <th>group name</th>\n",
       "      <th>t value</th>\n",
       "      <th>p value</th>\n",
       "      <th>normality</th>\n",
       "    </tr>\n",
       "  </thead>\n",
       "  <tbody>\n",
       "    <tr>\n",
       "      <th>0</th>\n",
       "      <td>group A</td>\n",
       "      <td>0.972988</td>\n",
       "      <td>0.445151</td>\n",
       "      <td>Yes</td>\n",
       "    </tr>\n",
       "    <tr>\n",
       "      <th>1</th>\n",
       "      <td>group B</td>\n",
       "      <td>0.966704</td>\n",
       "      <td>0.281612</td>\n",
       "      <td>Yes</td>\n",
       "    </tr>\n",
       "    <tr>\n",
       "      <th>2</th>\n",
       "      <td>group C</td>\n",
       "      <td>0.970285</td>\n",
       "      <td>0.367457</td>\n",
       "      <td>Yes</td>\n",
       "    </tr>\n",
       "    <tr>\n",
       "      <th>3</th>\n",
       "      <td>group D</td>\n",
       "      <td>0.967011</td>\n",
       "      <td>0.288237</td>\n",
       "      <td>Yes</td>\n",
       "    </tr>\n",
       "    <tr>\n",
       "      <th>4</th>\n",
       "      <td>group E</td>\n",
       "      <td>0.975667</td>\n",
       "      <td>0.532642</td>\n",
       "      <td>Yes</td>\n",
       "    </tr>\n",
       "  </tbody>\n",
       "</table>\n",
       "</div>"
      ],
      "text/plain": [
       "  group name   t value   p value normality\n",
       "0    group A  0.972988  0.445151       Yes\n",
       "1    group B  0.966704  0.281612       Yes\n",
       "2    group C  0.970285  0.367457       Yes\n",
       "3    group D  0.967011  0.288237       Yes\n",
       "4    group E  0.975667  0.532642       Yes"
      ]
     },
     "execution_count": 11,
     "metadata": {},
     "output_type": "execute_result"
    }
   ],
   "source": [
    "# Normality test\n",
    "from scipy.stats import shapiro\n",
    "\n",
    "name = sorted(df[\"ethnicity\"].unique())\n",
    "group = [g_a, g_b, g_c, g_d, g_e]\n",
    "t_stat = []\n",
    "p_value = []\n",
    "normality = []\n",
    "\n",
    "for group in group:\n",
    "    t, p = shapiro(group[\"math_score\"])\n",
    "    t_stat.append(t)\n",
    "    p_value.append(p)\n",
    "    \n",
    "    if p > 0.05:\n",
    "        normality.append(\"Yes\")\n",
    "    else:\n",
    "        normality.append(\"No\")\n",
    " \n",
    "#Creating table for normality result\n",
    "normality_result = pd.DataFrame(list(zip(name, t_stat, p_value, normality)),\n",
    "                           columns=[\"group name\", \"t value\", \"p value\",\n",
    "                                    \"normality\"])\n",
    "normality_result   "
   ]
  },
  {
   "cell_type": "code",
   "execution_count": 12,
   "metadata": {},
   "outputs": [
    {
     "name": "stdout",
     "output_type": "stream",
     "text": [
      "t_value: 0.96077839151162 | p_value: 0.430183478668795  | all samples have equal variances\n"
     ]
    }
   ],
   "source": [
    "# Levene test for equal variances\n",
    "from scipy.stats import levene\n",
    "\n",
    "t, p = levene(g_a[\"math_score\"], g_b[\"math_score\"], g_c[\"math_score\"], \n",
    "              g_d[\"math_score\"], g_e[\"math_score\"])\n",
    "\n",
    "if p > 0.05:\n",
    "    print(\"t_value: {} | p_value: {}  | all samples have equal variances\".format(t, p))\n",
    "else:\n",
    "    print(\"t_value: {} | p_value: {}  | samples have unequal variances\".format(t,p))"
   ]
  },
  {
   "cell_type": "code",
   "execution_count": 15,
   "metadata": {
    "scrolled": true
   },
   "outputs": [
    {
     "name": "stdout",
     "output_type": "stream",
     "text": [
      "f statistic: 3.528902 | p-value: 0.008326  | at least one mean is different\n"
     ]
    }
   ],
   "source": [
    "# Anova test\n",
    "from scipy.stats import f_oneway\n",
    "\n",
    "f, p = f_oneway(g_a[\"math_score\"], g_b[\"math_score\"], g_c[\"math_score\"],\n",
    "                g_d[\"math_score\"], g_e[\"math_score\"])\n",
    "\n",
    "if p > 0.05:\n",
    "    print(\"f statistic: {:4f} | p-value: {:4f}  | there's no differences in mean groups\".\n",
    "         format(f, p))\n",
    "else:\n",
    "    print(\"f statistic: {:4f} | p-value: {:4f}  | at least one mean is different\".\n",
    "         format(f, p))    "
   ]
  },
  {
   "cell_type": "code",
   "execution_count": 14,
   "metadata": {},
   "outputs": [
    {
     "data": {
      "text/html": [
       "<table class=\"simpletable\">\n",
       "<caption>Multiple Comparison of Means - Tukey HSD, FWER=0.05</caption>\n",
       "<tr>\n",
       "  <th>group1</th>  <th>group2</th>  <th>meandiff</th>  <th>p-adj</th>   <th>lower</th>   <th>upper</th>  <th>reject</th>\n",
       "</tr>\n",
       "<tr>\n",
       "  <td>group A</td> <td>group B</td>   <td>2.975</td>  <td>0.8848</td>  <td>-5.8289</td> <td>11.7789</td>  <td>False</td>\n",
       "</tr>\n",
       "<tr>\n",
       "  <td>group A</td> <td>group C</td>   <td>-0.3</td>     <td>1.0</td>   <td>-9.1039</td> <td>8.5039</td>   <td>False</td>\n",
       "</tr>\n",
       "<tr>\n",
       "  <td>group A</td> <td>group D</td>    <td>3.8</td>    <td>0.758</td>  <td>-5.0039</td> <td>12.6039</td>  <td>False</td>\n",
       "</tr>\n",
       "<tr>\n",
       "  <td>group A</td> <td>group E</td>  <td>10.225</td>  <td>0.0138</td>  <td>1.4211</td>  <td>19.0289</td>  <td>True</td> \n",
       "</tr>\n",
       "<tr>\n",
       "  <td>group B</td> <td>group C</td>  <td>-3.275</td>  <td>0.8439</td> <td>-12.0789</td> <td>5.5289</td>   <td>False</td>\n",
       "</tr>\n",
       "<tr>\n",
       "  <td>group B</td> <td>group D</td>   <td>0.825</td>   <td>0.999</td>  <td>-7.9789</td> <td>9.6289</td>   <td>False</td>\n",
       "</tr>\n",
       "<tr>\n",
       "  <td>group B</td> <td>group E</td>   <td>7.25</td>    <td>0.16</td>   <td>-1.5539</td> <td>16.0539</td>  <td>False</td>\n",
       "</tr>\n",
       "<tr>\n",
       "  <td>group C</td> <td>group D</td>    <td>4.1</td>   <td>0.7024</td>  <td>-4.7039</td> <td>12.9039</td>  <td>False</td>\n",
       "</tr>\n",
       "<tr>\n",
       "  <td>group C</td> <td>group E</td>  <td>10.525</td>  <td>0.0103</td>  <td>1.7211</td>  <td>19.3289</td>  <td>True</td> \n",
       "</tr>\n",
       "<tr>\n",
       "  <td>group D</td> <td>group E</td>   <td>6.425</td>  <td>0.2653</td>  <td>-2.3789</td> <td>15.2289</td>  <td>False</td>\n",
       "</tr>\n",
       "</table>"
      ],
      "text/plain": [
       "<class 'statsmodels.iolib.table.SimpleTable'>"
      ]
     },
     "execution_count": 14,
     "metadata": {},
     "output_type": "execute_result"
    }
   ],
   "source": [
    "#Post-hoc analysis\n",
    "import statsmodels.stats.multicomp as mc\n",
    "\n",
    "comp = mc.MultiComparison(sample_group['math_score'], \n",
    "                          sample_group['ethnicity'])\n",
    "post_hoc_res = comp.tukeyhsd()\n",
    "post_hoc_res.summary()"
   ]
  }
 ],
 "metadata": {
  "kernelspec": {
   "display_name": "Python 3",
   "language": "python",
   "name": "python3"
  },
  "language_info": {
   "codemirror_mode": {
    "name": "ipython",
    "version": 3
   },
   "file_extension": ".py",
   "mimetype": "text/x-python",
   "name": "python",
   "nbconvert_exporter": "python",
   "pygments_lexer": "ipython3",
   "version": "3.8.12"
  }
 },
 "nbformat": 4,
 "nbformat_minor": 4
}
